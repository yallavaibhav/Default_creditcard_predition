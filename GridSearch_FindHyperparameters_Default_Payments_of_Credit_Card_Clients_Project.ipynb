{
  "cells": [
    {
      "cell_type": "markdown",
      "metadata": {
        "id": "0defde97"
      },
      "source": [
        "# Dataset Information\n",
        "This dataset contains information on default payments, demographic factors, credit data, history of payment, and bill statements of credit card clients in Taiwan from April 2005 to September 2005."
      ],
      "id": "0defde97"
    },
    {
      "cell_type": "markdown",
      "metadata": {
        "id": "6a5bfaae"
      },
      "source": [
        "# Dataset Source :- \n",
        "- https://www.kaggle.com/uciml/default-of-credit-card-clients-dataset\n",
        "- https://archive.ics.uci.edu/ml/datasets/default+of+credit+card+clients"
      ],
      "id": "6a5bfaae"
    },
    {
      "cell_type": "markdown",
      "metadata": {
        "id": "b657daae"
      },
      "source": [
        "# Importing Libraries"
      ],
      "id": "b657daae"
    },
    {
      "cell_type": "code",
      "execution_count": null,
      "metadata": {
        "id": "df261225"
      },
      "outputs": [],
      "source": [
        "#importing all the necessary packages\n",
        "\n",
        "import numpy as np\n",
        "import pandas as pd\n",
        "import matplotlib.pyplot as plt\n",
        "%matplotlib inline\n",
        "import seaborn as sns\n",
        "import warnings\n",
        "warnings.filterwarnings('ignore')\n",
        "from sklearn import preprocessing\n",
        "from imblearn.pipeline import make_pipeline as make_pipeline_imb # To do our transformation in a unique time\n",
        "from imblearn.over_sampling import SMOTE\n",
        "from sklearn.pipeline import make_pipeline\n",
        "from imblearn.metrics import classification_report_imbalanced\n",
        "\n",
        "from sklearn.model_selection import train_test_split\n",
        "from collections import Counter\n",
        "from sklearn.metrics import roc_curve, auc\n",
        "\n",
        "from sklearn.linear_model import LogisticRegression\n",
        "from sklearn.ensemble import RandomForestClassifier\n",
        "from sklearn.preprocessing import OneHotEncoder\n",
        "from sklearn.preprocessing import LabelEncoder    \n",
        "from sklearn import preprocessing\n",
        "from sklearn.tree import DecisionTreeClassifier\n",
        "import scikitplot as skplt \n",
        "from sklearn.metrics import confusion_matrix\n",
        "from sklearn.model_selection import cross_val_score\n",
        "\n",
        "from sklearn import linear_model\n",
        "import scikitplot as skplt \n",
        "from sklearn.metrics import confusion_matrix\n",
        "from sklearn.metrics import average_precision_score\n",
        "from sklearn.model_selection import GridSearchCV\n",
        "from sklearn.neighbors import KNeighborsClassifier  \n",
        "import xgboost as xgb\n",
        "from sklearn import metrics\n",
        "\n",
        "from sklearn.metrics import precision_score, recall_score, fbeta_score, confusion_matrix, precision_recall_curve, accuracy_score\n",
        "from sklearn.metrics import f1_score"
      ],
      "id": "df261225"
    },
    {
      "cell_type": "markdown",
      "metadata": {
        "id": "bc3931c0"
      },
      "source": [
        "# Loading the Dataset"
      ],
      "id": "bc3931c0"
    },
    {
      "cell_type": "code",
      "execution_count": null,
      "metadata": {
        "colab": {
          "base_uri": "https://localhost:8080/"
        },
        "id": "_E3QiRpxwzyo",
        "outputId": "d36f3632-0d3c-4e7b-cd7e-fc9f450f6572"
      },
      "outputs": [
        {
          "output_type": "stream",
          "name": "stdout",
          "text": [
            "Looking in indexes: https://pypi.org/simple, https://us-python.pkg.dev/colab-wheels/public/simple/\n",
            "Collecting scikit-plot\n",
            "  Downloading scikit_plot-0.3.7-py3-none-any.whl (33 kB)\n",
            "Requirement already satisfied: matplotlib>=1.4.0 in /usr/local/lib/python3.8/dist-packages (from scikit-plot) (3.2.2)\n",
            "Requirement already satisfied: scipy>=0.9 in /usr/local/lib/python3.8/dist-packages (from scikit-plot) (1.7.3)\n",
            "Requirement already satisfied: joblib>=0.10 in /usr/local/lib/python3.8/dist-packages (from scikit-plot) (1.2.0)\n",
            "Requirement already satisfied: scikit-learn>=0.18 in /usr/local/lib/python3.8/dist-packages (from scikit-plot) (1.0.2)\n",
            "Requirement already satisfied: kiwisolver>=1.0.1 in /usr/local/lib/python3.8/dist-packages (from matplotlib>=1.4.0->scikit-plot) (1.4.4)\n",
            "Requirement already satisfied: cycler>=0.10 in /usr/local/lib/python3.8/dist-packages (from matplotlib>=1.4.0->scikit-plot) (0.11.0)\n",
            "Requirement already satisfied: python-dateutil>=2.1 in /usr/local/lib/python3.8/dist-packages (from matplotlib>=1.4.0->scikit-plot) (2.8.2)\n",
            "Requirement already satisfied: numpy>=1.11 in /usr/local/lib/python3.8/dist-packages (from matplotlib>=1.4.0->scikit-plot) (1.21.6)\n",
            "Requirement already satisfied: pyparsing!=2.0.4,!=2.1.2,!=2.1.6,>=2.0.1 in /usr/local/lib/python3.8/dist-packages (from matplotlib>=1.4.0->scikit-plot) (3.0.9)\n",
            "Requirement already satisfied: six>=1.5 in /usr/local/lib/python3.8/dist-packages (from python-dateutil>=2.1->matplotlib>=1.4.0->scikit-plot) (1.15.0)\n",
            "Requirement already satisfied: threadpoolctl>=2.0.0 in /usr/local/lib/python3.8/dist-packages (from scikit-learn>=0.18->scikit-plot) (3.1.0)\n",
            "Installing collected packages: scikit-plot\n",
            "Successfully installed scikit-plot-0.3.7\n"
          ]
        }
      ],
      "source": [
        "!pip install scikit-plot"
      ],
      "id": "_E3QiRpxwzyo"
    },
    {
      "cell_type": "code",
      "execution_count": null,
      "metadata": {
        "id": "216ad87f"
      },
      "outputs": [],
      "source": [
        "# df = pd.read_csv('Project_EDA.csv')"
      ],
      "id": "216ad87f"
    },
    {
      "cell_type": "code",
      "source": [
        "url = 'https://drive.google.com/file/d/12d3qh4tUBVU1jqQPikT0ySBT-VtZEWry/view?usp=sharing'\n",
        "path = 'https://drive.google.com/uc?id=' + url.split('/')[-2]\n",
        "df = pd.read_csv(path)"
      ],
      "metadata": {
        "id": "nh62Oincw2F4"
      },
      "id": "nh62Oincw2F4",
      "execution_count": null,
      "outputs": []
    },
    {
      "cell_type": "code",
      "execution_count": null,
      "metadata": {
        "colab": {
          "base_uri": "https://localhost:8080/",
          "height": 299
        },
        "id": "a5418d9c",
        "outputId": "37dd81e7-0c78-4717-d26f-5f4a1a9cd34c"
      },
      "outputs": [
        {
          "output_type": "execute_result",
          "data": {
            "text/plain": [
              "   LIMIT_BAL  SEX  EDUCATION  MARRIAGE  AGE  PAY_1  PAY_2  PAY_3  PAY_4  \\\n",
              "0      20000    2          2         1   24      2      2      0      0   \n",
              "1     120000    2          2         2   26      0      2      0      0   \n",
              "2      90000    2          2         2   34      0      0      0      0   \n",
              "3      50000    2          2         1   37      0      0      0      0   \n",
              "4      50000    1          2         1   57      0      0      0      0   \n",
              "\n",
              "   PAY_5  ...  BILL_AMT4  BILL_AMT5  BILL_AMT6  PAY_AMT1  PAY_AMT2  PAY_AMT3  \\\n",
              "0      0  ...          0          0          0         0       689         0   \n",
              "1      0  ...       3272       3455       3261         0      1000      1000   \n",
              "2      0  ...      14331      14948      15549      1518      1500      1000   \n",
              "3      0  ...      28314      28959      29547      2000      2019      1200   \n",
              "4      0  ...      20940      19146      19131      2000     36681     10000   \n",
              "\n",
              "   PAY_AMT4  PAY_AMT5  PAY_AMT6  default  \n",
              "0         0         0         0        1  \n",
              "1      1000         0      2000        1  \n",
              "2      1000      1000      5000        0  \n",
              "3      1100      1069      1000        0  \n",
              "4      9000       689       679        0  \n",
              "\n",
              "[5 rows x 24 columns]"
            ],
            "text/html": [
              "\n",
              "  <div id=\"df-03d89b3d-493e-48b8-8571-a26dc835aad7\">\n",
              "    <div class=\"colab-df-container\">\n",
              "      <div>\n",
              "<style scoped>\n",
              "    .dataframe tbody tr th:only-of-type {\n",
              "        vertical-align: middle;\n",
              "    }\n",
              "\n",
              "    .dataframe tbody tr th {\n",
              "        vertical-align: top;\n",
              "    }\n",
              "\n",
              "    .dataframe thead th {\n",
              "        text-align: right;\n",
              "    }\n",
              "</style>\n",
              "<table border=\"1\" class=\"dataframe\">\n",
              "  <thead>\n",
              "    <tr style=\"text-align: right;\">\n",
              "      <th></th>\n",
              "      <th>LIMIT_BAL</th>\n",
              "      <th>SEX</th>\n",
              "      <th>EDUCATION</th>\n",
              "      <th>MARRIAGE</th>\n",
              "      <th>AGE</th>\n",
              "      <th>PAY_1</th>\n",
              "      <th>PAY_2</th>\n",
              "      <th>PAY_3</th>\n",
              "      <th>PAY_4</th>\n",
              "      <th>PAY_5</th>\n",
              "      <th>...</th>\n",
              "      <th>BILL_AMT4</th>\n",
              "      <th>BILL_AMT5</th>\n",
              "      <th>BILL_AMT6</th>\n",
              "      <th>PAY_AMT1</th>\n",
              "      <th>PAY_AMT2</th>\n",
              "      <th>PAY_AMT3</th>\n",
              "      <th>PAY_AMT4</th>\n",
              "      <th>PAY_AMT5</th>\n",
              "      <th>PAY_AMT6</th>\n",
              "      <th>default</th>\n",
              "    </tr>\n",
              "  </thead>\n",
              "  <tbody>\n",
              "    <tr>\n",
              "      <th>0</th>\n",
              "      <td>20000</td>\n",
              "      <td>2</td>\n",
              "      <td>2</td>\n",
              "      <td>1</td>\n",
              "      <td>24</td>\n",
              "      <td>2</td>\n",
              "      <td>2</td>\n",
              "      <td>0</td>\n",
              "      <td>0</td>\n",
              "      <td>0</td>\n",
              "      <td>...</td>\n",
              "      <td>0</td>\n",
              "      <td>0</td>\n",
              "      <td>0</td>\n",
              "      <td>0</td>\n",
              "      <td>689</td>\n",
              "      <td>0</td>\n",
              "      <td>0</td>\n",
              "      <td>0</td>\n",
              "      <td>0</td>\n",
              "      <td>1</td>\n",
              "    </tr>\n",
              "    <tr>\n",
              "      <th>1</th>\n",
              "      <td>120000</td>\n",
              "      <td>2</td>\n",
              "      <td>2</td>\n",
              "      <td>2</td>\n",
              "      <td>26</td>\n",
              "      <td>0</td>\n",
              "      <td>2</td>\n",
              "      <td>0</td>\n",
              "      <td>0</td>\n",
              "      <td>0</td>\n",
              "      <td>...</td>\n",
              "      <td>3272</td>\n",
              "      <td>3455</td>\n",
              "      <td>3261</td>\n",
              "      <td>0</td>\n",
              "      <td>1000</td>\n",
              "      <td>1000</td>\n",
              "      <td>1000</td>\n",
              "      <td>0</td>\n",
              "      <td>2000</td>\n",
              "      <td>1</td>\n",
              "    </tr>\n",
              "    <tr>\n",
              "      <th>2</th>\n",
              "      <td>90000</td>\n",
              "      <td>2</td>\n",
              "      <td>2</td>\n",
              "      <td>2</td>\n",
              "      <td>34</td>\n",
              "      <td>0</td>\n",
              "      <td>0</td>\n",
              "      <td>0</td>\n",
              "      <td>0</td>\n",
              "      <td>0</td>\n",
              "      <td>...</td>\n",
              "      <td>14331</td>\n",
              "      <td>14948</td>\n",
              "      <td>15549</td>\n",
              "      <td>1518</td>\n",
              "      <td>1500</td>\n",
              "      <td>1000</td>\n",
              "      <td>1000</td>\n",
              "      <td>1000</td>\n",
              "      <td>5000</td>\n",
              "      <td>0</td>\n",
              "    </tr>\n",
              "    <tr>\n",
              "      <th>3</th>\n",
              "      <td>50000</td>\n",
              "      <td>2</td>\n",
              "      <td>2</td>\n",
              "      <td>1</td>\n",
              "      <td>37</td>\n",
              "      <td>0</td>\n",
              "      <td>0</td>\n",
              "      <td>0</td>\n",
              "      <td>0</td>\n",
              "      <td>0</td>\n",
              "      <td>...</td>\n",
              "      <td>28314</td>\n",
              "      <td>28959</td>\n",
              "      <td>29547</td>\n",
              "      <td>2000</td>\n",
              "      <td>2019</td>\n",
              "      <td>1200</td>\n",
              "      <td>1100</td>\n",
              "      <td>1069</td>\n",
              "      <td>1000</td>\n",
              "      <td>0</td>\n",
              "    </tr>\n",
              "    <tr>\n",
              "      <th>4</th>\n",
              "      <td>50000</td>\n",
              "      <td>1</td>\n",
              "      <td>2</td>\n",
              "      <td>1</td>\n",
              "      <td>57</td>\n",
              "      <td>0</td>\n",
              "      <td>0</td>\n",
              "      <td>0</td>\n",
              "      <td>0</td>\n",
              "      <td>0</td>\n",
              "      <td>...</td>\n",
              "      <td>20940</td>\n",
              "      <td>19146</td>\n",
              "      <td>19131</td>\n",
              "      <td>2000</td>\n",
              "      <td>36681</td>\n",
              "      <td>10000</td>\n",
              "      <td>9000</td>\n",
              "      <td>689</td>\n",
              "      <td>679</td>\n",
              "      <td>0</td>\n",
              "    </tr>\n",
              "  </tbody>\n",
              "</table>\n",
              "<p>5 rows × 24 columns</p>\n",
              "</div>\n",
              "      <button class=\"colab-df-convert\" onclick=\"convertToInteractive('df-03d89b3d-493e-48b8-8571-a26dc835aad7')\"\n",
              "              title=\"Convert this dataframe to an interactive table.\"\n",
              "              style=\"display:none;\">\n",
              "        \n",
              "  <svg xmlns=\"http://www.w3.org/2000/svg\" height=\"24px\"viewBox=\"0 0 24 24\"\n",
              "       width=\"24px\">\n",
              "    <path d=\"M0 0h24v24H0V0z\" fill=\"none\"/>\n",
              "    <path d=\"M18.56 5.44l.94 2.06.94-2.06 2.06-.94-2.06-.94-.94-2.06-.94 2.06-2.06.94zm-11 1L8.5 8.5l.94-2.06 2.06-.94-2.06-.94L8.5 2.5l-.94 2.06-2.06.94zm10 10l.94 2.06.94-2.06 2.06-.94-2.06-.94-.94-2.06-.94 2.06-2.06.94z\"/><path d=\"M17.41 7.96l-1.37-1.37c-.4-.4-.92-.59-1.43-.59-.52 0-1.04.2-1.43.59L10.3 9.45l-7.72 7.72c-.78.78-.78 2.05 0 2.83L4 21.41c.39.39.9.59 1.41.59.51 0 1.02-.2 1.41-.59l7.78-7.78 2.81-2.81c.8-.78.8-2.07 0-2.86zM5.41 20L4 18.59l7.72-7.72 1.47 1.35L5.41 20z\"/>\n",
              "  </svg>\n",
              "      </button>\n",
              "      \n",
              "  <style>\n",
              "    .colab-df-container {\n",
              "      display:flex;\n",
              "      flex-wrap:wrap;\n",
              "      gap: 12px;\n",
              "    }\n",
              "\n",
              "    .colab-df-convert {\n",
              "      background-color: #E8F0FE;\n",
              "      border: none;\n",
              "      border-radius: 50%;\n",
              "      cursor: pointer;\n",
              "      display: none;\n",
              "      fill: #1967D2;\n",
              "      height: 32px;\n",
              "      padding: 0 0 0 0;\n",
              "      width: 32px;\n",
              "    }\n",
              "\n",
              "    .colab-df-convert:hover {\n",
              "      background-color: #E2EBFA;\n",
              "      box-shadow: 0px 1px 2px rgba(60, 64, 67, 0.3), 0px 1px 3px 1px rgba(60, 64, 67, 0.15);\n",
              "      fill: #174EA6;\n",
              "    }\n",
              "\n",
              "    [theme=dark] .colab-df-convert {\n",
              "      background-color: #3B4455;\n",
              "      fill: #D2E3FC;\n",
              "    }\n",
              "\n",
              "    [theme=dark] .colab-df-convert:hover {\n",
              "      background-color: #434B5C;\n",
              "      box-shadow: 0px 1px 3px 1px rgba(0, 0, 0, 0.15);\n",
              "      filter: drop-shadow(0px 1px 2px rgba(0, 0, 0, 0.3));\n",
              "      fill: #FFFFFF;\n",
              "    }\n",
              "  </style>\n",
              "\n",
              "      <script>\n",
              "        const buttonEl =\n",
              "          document.querySelector('#df-03d89b3d-493e-48b8-8571-a26dc835aad7 button.colab-df-convert');\n",
              "        buttonEl.style.display =\n",
              "          google.colab.kernel.accessAllowed ? 'block' : 'none';\n",
              "\n",
              "        async function convertToInteractive(key) {\n",
              "          const element = document.querySelector('#df-03d89b3d-493e-48b8-8571-a26dc835aad7');\n",
              "          const dataTable =\n",
              "            await google.colab.kernel.invokeFunction('convertToInteractive',\n",
              "                                                     [key], {});\n",
              "          if (!dataTable) return;\n",
              "\n",
              "          const docLinkHtml = 'Like what you see? Visit the ' +\n",
              "            '<a target=\"_blank\" href=https://colab.research.google.com/notebooks/data_table.ipynb>data table notebook</a>'\n",
              "            + ' to learn more about interactive tables.';\n",
              "          element.innerHTML = '';\n",
              "          dataTable['output_type'] = 'display_data';\n",
              "          await google.colab.output.renderOutput(dataTable, element);\n",
              "          const docLink = document.createElement('div');\n",
              "          docLink.innerHTML = docLinkHtml;\n",
              "          element.appendChild(docLink);\n",
              "        }\n",
              "      </script>\n",
              "    </div>\n",
              "  </div>\n",
              "  "
            ]
          },
          "metadata": {},
          "execution_count": 5
        }
      ],
      "source": [
        "#displaying the head of the dataset\n",
        "df.head()"
      ],
      "id": "a5418d9c"
    },
    {
      "cell_type": "code",
      "execution_count": null,
      "metadata": {
        "colab": {
          "base_uri": "https://localhost:8080/"
        },
        "id": "f2f7c6c1",
        "outputId": "94e51d38-8567-4e7e-a74d-6d0e98dece2a"
      },
      "outputs": [
        {
          "output_type": "execute_result",
          "data": {
            "text/plain": [
              "0    23364\n",
              "1     6636\n",
              "Name: default, dtype: int64"
            ]
          },
          "metadata": {},
          "execution_count": 6
        }
      ],
      "source": [
        "df['default'].value_counts()"
      ],
      "id": "f2f7c6c1"
    },
    {
      "cell_type": "markdown",
      "metadata": {
        "id": "694b3518"
      },
      "source": [
        "# Data Split"
      ],
      "id": "694b3518"
    },
    {
      "cell_type": "code",
      "execution_count": null,
      "metadata": {
        "colab": {
          "base_uri": "https://localhost:8080/"
        },
        "id": "444b7bca",
        "outputId": "b8653cda-bd0b-4cb9-f990-4336126879b4"
      },
      "outputs": [
        {
          "output_type": "execute_result",
          "data": {
            "text/plain": [
              "array([2, 1, 3, 4])"
            ]
          },
          "metadata": {},
          "execution_count": 9
        }
      ],
      "source": [
        "df['EDUCATION'].unique()"
      ],
      "id": "444b7bca"
    },
    {
      "cell_type": "code",
      "execution_count": null,
      "metadata": {
        "colab": {
          "base_uri": "https://localhost:8080/"
        },
        "id": "32e159fd",
        "outputId": "6f6541eb-8c0b-4f05-e596-795700abdfcc"
      },
      "outputs": [
        {
          "output_type": "execute_result",
          "data": {
            "text/plain": [
              "array([1, 2, 3])"
            ]
          },
          "metadata": {},
          "execution_count": 10
        }
      ],
      "source": [
        "df['MARRIAGE'].unique()"
      ],
      "id": "32e159fd"
    },
    {
      "cell_type": "code",
      "execution_count": null,
      "metadata": {
        "colab": {
          "base_uri": "https://localhost:8080/",
          "height": 295
        },
        "id": "3164acf6",
        "outputId": "9648cc66-8de9-4018-82be-5cca91a59353"
      },
      "outputs": [
        {
          "output_type": "display_data",
          "data": {
            "text/plain": [
              "<Figure size 432x288 with 1 Axes>"
            ],
            "image/png": "[encoded data removed]"
          },
          "metadata": {
            "needs_background": "light"
          }
        }
      ],
      "source": [
        "#Checking the Imbalance\n",
        "df['default'].value_counts()\n",
        "plt.title('Default Payment Next Month - Data Imbalance Check')\n",
        "ax1 = sns.countplot(x='default', data = df)\n",
        "ax1.set_xticklabels(['No Default','Default'])\n",
        "plt.show()"
      ],
      "id": "3164acf6"
    },
    {
      "cell_type": "code",
      "execution_count": null,
      "metadata": {
        "id": "x--xKoAKVG8_"
      },
      "outputs": [],
      "source": [
        "y = df['default']"
      ],
      "id": "x--xKoAKVG8_"
    },
    {
      "cell_type": "code",
      "execution_count": null,
      "metadata": {
        "colab": {
          "base_uri": "https://localhost:8080/"
        },
        "id": "7X1TxE09VSAQ",
        "outputId": "84aaa445-3a5e-42ee-98f7-caed5f8a8d8b"
      },
      "outputs": [
        {
          "output_type": "execute_result",
          "data": {
            "text/plain": [
              "0    1\n",
              "1    1\n",
              "2    0\n",
              "3    0\n",
              "4    0\n",
              "Name: default, dtype: int64"
            ]
          },
          "metadata": {},
          "execution_count": 13
        }
      ],
      "source": [
        "y.head()"
      ],
      "id": "7X1TxE09VSAQ"
    },
    {
      "cell_type": "code",
      "execution_count": null,
      "metadata": {
        "id": "5tgQVtfxUqPH"
      },
      "outputs": [],
      "source": [
        "X = df.drop('default', axis=1)"
      ],
      "id": "5tgQVtfxUqPH"
    },
    {
      "cell_type": "code",
      "execution_count": null,
      "metadata": {
        "colab": {
          "base_uri": "https://localhost:8080/",
          "height": 299
        },
        "id": "RbAD8TUAVY77",
        "outputId": "8b8fb4b3-44e2-4157-846d-58522aaf2ad1"
      },
      "outputs": [
        {
          "output_type": "execute_result",
          "data": {
            "text/plain": [
              "   LIMIT_BAL  SEX  EDUCATION  MARRIAGE  AGE  PAY_1  PAY_2  PAY_3  PAY_4  \\\n",
              "0      20000    2          2         1   24      2      2      0      0   \n",
              "1     120000    2          2         2   26      0      2      0      0   \n",
              "2      90000    2          2         2   34      0      0      0      0   \n",
              "3      50000    2          2         1   37      0      0      0      0   \n",
              "4      50000    1          2         1   57      0      0      0      0   \n",
              "\n",
              "   PAY_5  ...  BILL_AMT3  BILL_AMT4  BILL_AMT5  BILL_AMT6  PAY_AMT1  PAY_AMT2  \\\n",
              "0      0  ...        689          0          0          0         0       689   \n",
              "1      0  ...       2682       3272       3455       3261         0      1000   \n",
              "2      0  ...      13559      14331      14948      15549      1518      1500   \n",
              "3      0  ...      49291      28314      28959      29547      2000      2019   \n",
              "4      0  ...      35835      20940      19146      19131      2000     36681   \n",
              "\n",
              "   PAY_AMT3  PAY_AMT4  PAY_AMT5  PAY_AMT6  \n",
              "0         0         0         0         0  \n",
              "1      1000      1000         0      2000  \n",
              "2      1000      1000      1000      5000  \n",
              "3      1200      1100      1069      1000  \n",
              "4     10000      9000       689       679  \n",
              "\n",
              "[5 rows x 23 columns]"
            ],
            "text/html": [
              "\n",
              "  <div id=\"df-4e528a7b-1d1d-4865-b605-492538993c60\">\n",
              "    <div class=\"colab-df-container\">\n",
              "      <div>\n",
              "<style scoped>\n",
              "    .dataframe tbody tr th:only-of-type {\n",
              "        vertical-align: middle;\n",
              "    }\n",
              "\n",
              "    .dataframe tbody tr th {\n",
              "        vertical-align: top;\n",
              "    }\n",
              "\n",
              "    .dataframe thead th {\n",
              "        text-align: right;\n",
              "    }\n",
              "</style>\n",
              "<table border=\"1\" class=\"dataframe\">\n",
              "  <thead>\n",
              "    <tr style=\"text-align: right;\">\n",
              "      <th></th>\n",
              "      <th>LIMIT_BAL</th>\n",
              "      <th>SEX</th>\n",
              "      <th>EDUCATION</th>\n",
              "      <th>MARRIAGE</th>\n",
              "      <th>AGE</th>\n",
              "      <th>PAY_1</th>\n",
              "      <th>PAY_2</th>\n",
              "      <th>PAY_3</th>\n",
              "      <th>PAY_4</th>\n",
              "      <th>PAY_5</th>\n",
              "      <th>...</th>\n",
              "      <th>BILL_AMT3</th>\n",
              "      <th>BILL_AMT4</th>\n",
              "      <th>BILL_AMT5</th>\n",
              "      <th>BILL_AMT6</th>\n",
              "      <th>PAY_AMT1</th>\n",
              "      <th>PAY_AMT2</th>\n",
              "      <th>PAY_AMT3</th>\n",
              "      <th>PAY_AMT4</th>\n",
              "      <th>PAY_AMT5</th>\n",
              "      <th>PAY_AMT6</th>\n",
              "    </tr>\n",
              "  </thead>\n",
              "  <tbody>\n",
              "    <tr>\n",
              "      <th>0</th>\n",
              "      <td>20000</td>\n",
              "      <td>2</td>\n",
              "      <td>2</td>\n",
              "      <td>1</td>\n",
              "      <td>24</td>\n",
              "      <td>2</td>\n",
              "      <td>2</td>\n",
              "      <td>0</td>\n",
              "      <td>0</td>\n",
              "      <td>0</td>\n",
              "      <td>...</td>\n",
              "      <td>689</td>\n",
              "      <td>0</td>\n",
              "      <td>0</td>\n",
              "      <td>0</td>\n",
              "      <td>0</td>\n",
              "      <td>689</td>\n",
              "      <td>0</td>\n",
              "      <td>0</td>\n",
              "      <td>0</td>\n",
              "      <td>0</td>\n",
              "    </tr>\n",
              "    <tr>\n",
              "      <th>1</th>\n",
              "      <td>120000</td>\n",
              "      <td>2</td>\n",
              "      <td>2</td>\n",
              "      <td>2</td>\n",
              "      <td>26</td>\n",
              "      <td>0</td>\n",
              "      <td>2</td>\n",
              "      <td>0</td>\n",
              "      <td>0</td>\n",
              "      <td>0</td>\n",
              "      <td>...</td>\n",
              "      <td>2682</td>\n",
              "      <td>3272</td>\n",
              "      <td>3455</td>\n",
              "      <td>3261</td>\n",
              "      <td>0</td>\n",
              "      <td>1000</td>\n",
              "      <td>1000</td>\n",
              "      <td>1000</td>\n",
              "      <td>0</td>\n",
              "      <td>2000</td>\n",
              "    </tr>\n",
              "    <tr>\n",
              "      <th>2</th>\n",
              "      <td>90000</td>\n",
              "      <td>2</td>\n",
              "      <td>2</td>\n",
              "      <td>2</td>\n",
              "      <td>34</td>\n",
              "      <td>0</td>\n",
              "      <td>0</td>\n",
              "      <td>0</td>\n",
              "      <td>0</td>\n",
              "      <td>0</td>\n",
              "      <td>...</td>\n",
              "      <td>13559</td>\n",
              "      <td>14331</td>\n",
              "      <td>14948</td>\n",
              "      <td>15549</td>\n",
              "      <td>1518</td>\n",
              "      <td>1500</td>\n",
              "      <td>1000</td>\n",
              "      <td>1000</td>\n",
              "      <td>1000</td>\n",
              "      <td>5000</td>\n",
              "    </tr>\n",
              "    <tr>\n",
              "      <th>3</th>\n",
              "      <td>50000</td>\n",
              "      <td>2</td>\n",
              "      <td>2</td>\n",
              "      <td>1</td>\n",
              "      <td>37</td>\n",
              "      <td>0</td>\n",
              "      <td>0</td>\n",
              "      <td>0</td>\n",
              "      <td>0</td>\n",
              "      <td>0</td>\n",
              "      <td>...</td>\n",
              "      <td>49291</td>\n",
              "      <td>28314</td>\n",
              "      <td>28959</td>\n",
              "      <td>29547</td>\n",
              "      <td>2000</td>\n",
              "      <td>2019</td>\n",
              "      <td>1200</td>\n",
              "      <td>1100</td>\n",
              "      <td>1069</td>\n",
              "      <td>1000</td>\n",
              "    </tr>\n",
              "    <tr>\n",
              "      <th>4</th>\n",
              "      <td>50000</td>\n",
              "      <td>1</td>\n",
              "      <td>2</td>\n",
              "      <td>1</td>\n",
              "      <td>57</td>\n",
              "      <td>0</td>\n",
              "      <td>0</td>\n",
              "      <td>0</td>\n",
              "      <td>0</td>\n",
              "      <td>0</td>\n",
              "      <td>...</td>\n",
              "      <td>35835</td>\n",
              "      <td>20940</td>\n",
              "      <td>19146</td>\n",
              "      <td>19131</td>\n",
              "      <td>2000</td>\n",
              "      <td>36681</td>\n",
              "      <td>10000</td>\n",
              "      <td>9000</td>\n",
              "      <td>689</td>\n",
              "      <td>679</td>\n",
              "    </tr>\n",
              "  </tbody>\n",
              "</table>\n",
              "<p>5 rows × 23 columns</p>\n",
              "</div>\n",
              "      <button class=\"colab-df-convert\" onclick=\"convertToInteractive('df-4e528a7b-1d1d-4865-b605-492538993c60')\"\n",
              "              title=\"Convert this dataframe to an interactive table.\"\n",
              "              style=\"display:none;\">\n",
              "        \n",
              "  <svg xmlns=\"http://www.w3.org/2000/svg\" height=\"24px\"viewBox=\"0 0 24 24\"\n",
              "       width=\"24px\">\n",
              "    <path d=\"M0 0h24v24H0V0z\" fill=\"none\"/>\n",
              "    <path d=\"M18.56 5.44l.94 2.06.94-2.06 2.06-.94-2.06-.94-.94-2.06-.94 2.06-2.06.94zm-11 1L8.5 8.5l.94-2.06 2.06-.94-2.06-.94L8.5 2.5l-.94 2.06-2.06.94zm10 10l.94 2.06.94-2.06 2.06-.94-2.06-.94-.94-2.06-.94 2.06-2.06.94z\"/><path d=\"M17.41 7.96l-1.37-1.37c-.4-.4-.92-.59-1.43-.59-.52 0-1.04.2-1.43.59L10.3 9.45l-7.72 7.72c-.78.78-.78 2.05 0 2.83L4 21.41c.39.39.9.59 1.41.59.51 0 1.02-.2 1.41-.59l7.78-7.78 2.81-2.81c.8-.78.8-2.07 0-2.86zM5.41 20L4 18.59l7.72-7.72 1.47 1.35L5.41 20z\"/>\n",
              "  </svg>\n",
              "      </button>\n",
              "      \n",
              "  <style>\n",
              "    .colab-df-container {\n",
              "      display:flex;\n",
              "      flex-wrap:wrap;\n",
              "      gap: 12px;\n",
              "    }\n",
              "\n",
              "    .colab-df-convert {\n",
              "      background-color: #E8F0FE;\n",
              "      border: none;\n",
              "      border-radius: 50%;\n",
              "      cursor: pointer;\n",
              "      display: none;\n",
              "      fill: #1967D2;\n",
              "      height: 32px;\n",
              "      padding: 0 0 0 0;\n",
              "      width: 32px;\n",
              "    }\n",
              "\n",
              "    .colab-df-convert:hover {\n",
              "      background-color: #E2EBFA;\n",
              "      box-shadow: 0px 1px 2px rgba(60, 64, 67, 0.3), 0px 1px 3px 1px rgba(60, 64, 67, 0.15);\n",
              "      fill: #174EA6;\n",
              "    }\n",
              "\n",
              "    [theme=dark] .colab-df-convert {\n",
              "      background-color: #3B4455;\n",
              "      fill: #D2E3FC;\n",
              "    }\n",
              "\n",
              "    [theme=dark] .colab-df-convert:hover {\n",
              "      background-color: #434B5C;\n",
              "      box-shadow: 0px 1px 3px 1px rgba(0, 0, 0, 0.15);\n",
              "      filter: drop-shadow(0px 1px 2px rgba(0, 0, 0, 0.3));\n",
              "      fill: #FFFFFF;\n",
              "    }\n",
              "  </style>\n",
              "\n",
              "      <script>\n",
              "        const buttonEl =\n",
              "          document.querySelector('#df-4e528a7b-1d1d-4865-b605-492538993c60 button.colab-df-convert');\n",
              "        buttonEl.style.display =\n",
              "          google.colab.kernel.accessAllowed ? 'block' : 'none';\n",
              "\n",
              "        async function convertToInteractive(key) {\n",
              "          const element = document.querySelector('#df-4e528a7b-1d1d-4865-b605-492538993c60');\n",
              "          const dataTable =\n",
              "            await google.colab.kernel.invokeFunction('convertToInteractive',\n",
              "                                                     [key], {});\n",
              "          if (!dataTable) return;\n",
              "\n",
              "          const docLinkHtml = 'Like what you see? Visit the ' +\n",
              "            '<a target=\"_blank\" href=https://colab.research.google.com/notebooks/data_table.ipynb>data table notebook</a>'\n",
              "            + ' to learn more about interactive tables.';\n",
              "          element.innerHTML = '';\n",
              "          dataTable['output_type'] = 'display_data';\n",
              "          await google.colab.output.renderOutput(dataTable, element);\n",
              "          const docLink = document.createElement('div');\n",
              "          docLink.innerHTML = docLinkHtml;\n",
              "          element.appendChild(docLink);\n",
              "        }\n",
              "      </script>\n",
              "    </div>\n",
              "  </div>\n",
              "  "
            ]
          },
          "metadata": {},
          "execution_count": 15
        }
      ],
      "source": [
        "X.head()"
      ],
      "id": "RbAD8TUAVY77"
    },
    {
      "cell_type": "markdown",
      "metadata": {
        "id": "SpfQImy8SHbh"
      },
      "source": [
        "**Train Test Split**"
      ],
      "id": "SpfQImy8SHbh"
    },
    {
      "cell_type": "code",
      "execution_count": null,
      "metadata": {
        "id": "3PD13vePR_kX"
      },
      "outputs": [],
      "source": [
        "X_train_1, X_test_1, y_train_1, y_test=train_test_split(X, y, random_state=2, test_size=0.20)"
      ],
      "id": "3PD13vePR_kX"
    },
    {
      "cell_type": "markdown",
      "metadata": {
        "id": "2b27ab3d"
      },
      "source": [
        "# Applying the MinMax Scaler and SMOTE:"
      ],
      "id": "2b27ab3d"
    },
    {
      "cell_type": "markdown",
      "metadata": {
        "id": "df9e5bb6"
      },
      "source": [
        "- Transformation to normalize values ( If the distribution is not Gaussian or the standard deviation is very small, the min-max scaler works better.)"
      ],
      "id": "df9e5bb6"
    },
    {
      "cell_type": "markdown",
      "metadata": {
        "id": "fa523324"
      },
      "source": [
        "### Distribution of all Variables after applying MinMax Scaler"
      ],
      "id": "fa523324"
    },
    {
      "cell_type": "code",
      "execution_count": null,
      "metadata": {
        "id": "f290d1bd"
      },
      "outputs": [],
      "source": [
        "# from sklearn.preprocessing import MinMaxScaler\n",
        "# normal_scaling = MinMaxScaler()\n",
        "# X_train_2 = normal_scaling.fit_transform(X_train_1)\n",
        "# X_train_2\n",
        "#Normalize Train data\n",
        "minmax_scale = preprocessing.MinMaxScaler().fit(X_train_1)\n",
        "X_train_2 = minmax_scale.transform(X_train_1)\n",
        "X_train_2 = pd.DataFrame(X_train_2, columns= list(X_train_1))\n"
      ],
      "id": "f290d1bd"
    },
    {
      "cell_type": "code",
      "execution_count": null,
      "metadata": {
        "id": "rbGK4LbSaOkP"
      },
      "outputs": [],
      "source": [
        "#Normalize test data\n",
        "minmax_scale = preprocessing.MinMaxScaler().fit(X_test_1)\n",
        "X_test = minmax_scale.transform(X_test_1)\n",
        "X_test = pd.DataFrame(X_test, columns= list(X_test_1))\n",
        "# X_test.hist(figsize=(20,20))\n",
        "# plt.show()"
      ],
      "id": "rbGK4LbSaOkP"
    },
    {
      "cell_type": "code",
      "execution_count": null,
      "metadata": {
        "colab": {
          "base_uri": "https://localhost:8080/"
        },
        "id": "_lGgWQi4Xsgl",
        "outputId": "7949773f-d76f-4f12-d033-bcb967461989"
      },
      "outputs": [
        {
          "output_type": "stream",
          "name": "stdout",
          "text": [
            "Before OverSampling, counts of label '1': 5301\n",
            "Before OverSampling, counts of label '0': 18699 \n",
            "\n",
            "After OverSampling, the shape of train_X: (37398, 23)\n",
            "After OverSampling, the shape of train_y: (37398,) \n",
            "\n",
            "After OverSampling, counts of label '1': 18699\n",
            "After OverSampling, counts of label '0': 18699\n"
          ]
        }
      ],
      "source": [
        "from imblearn.over_sampling import SMOTE\n",
        "print(\"Before OverSampling, counts of label '1': {}\".format(sum(y_train_1 == 1)))\n",
        "print(\"Before OverSampling, counts of label '0': {} \\n\".format(sum(y_train_1 == 0)))\n",
        "\n",
        "sm = SMOTE(random_state = 2)\n",
        "\n",
        "#X_train, y_train = sm.fit_resample(X_train_2, y_train_1.ravel())\n",
        "X_train, y_train = sm.fit_resample(X_train_2, y_train_1)\n",
        "print('After OverSampling, the shape of train_X: {}'.format(X_train.shape))\n",
        "print('After OverSampling, the shape of train_y: {} \\n'.format(y_train.shape))\n",
        "  \n",
        "print(\"After OverSampling, counts of label '1': {}\".format(sum(y_train == 1)))\n",
        "print(\"After OverSampling, counts of label '0': {}\".format(sum(y_train == 0)))"
      ],
      "id": "_lGgWQi4Xsgl"
    },
    {
      "cell_type": "code",
      "execution_count": null,
      "metadata": {
        "colab": {
          "base_uri": "https://localhost:8080/"
        },
        "id": "X5We4T-nbwPy",
        "outputId": "ac4e9f9e-c68a-47da-ee01-dbd7159de03c"
      },
      "outputs": [
        {
          "output_type": "stream",
          "name": "stdout",
          "text": [
            "<class 'pandas.core.frame.DataFrame'>\n",
            "RangeIndex: 6000 entries, 0 to 5999\n",
            "Data columns (total 23 columns):\n",
            " #   Column     Non-Null Count  Dtype  \n",
            "---  ------     --------------  -----  \n",
            " 0   LIMIT_BAL  6000 non-null   float64\n",
            " 1   SEX        6000 non-null   float64\n",
            " 2   EDUCATION  6000 non-null   float64\n",
            " 3   MARRIAGE   6000 non-null   float64\n",
            " 4   AGE        6000 non-null   float64\n",
            " 5   PAY_1      6000 non-null   float64\n",
            " 6   PAY_2      6000 non-null   float64\n",
            " 7   PAY_3      6000 non-null   float64\n",
            " 8   PAY_4      6000 non-null   float64\n",
            " 9   PAY_5      6000 non-null   float64\n",
            " 10  PAY_6      6000 non-null   float64\n",
            " 11  BILL_AMT1  6000 non-null   float64\n",
            " 12  BILL_AMT2  6000 non-null   float64\n",
            " 13  BILL_AMT3  6000 non-null   float64\n",
            " 14  BILL_AMT4  6000 non-null   float64\n",
            " 15  BILL_AMT5  6000 non-null   float64\n",
            " 16  BILL_AMT6  6000 non-null   float64\n",
            " 17  PAY_AMT1   6000 non-null   float64\n",
            " 18  PAY_AMT2   6000 non-null   float64\n",
            " 19  PAY_AMT3   6000 non-null   float64\n",
            " 20  PAY_AMT4   6000 non-null   float64\n",
            " 21  PAY_AMT5   6000 non-null   float64\n",
            " 22  PAY_AMT6   6000 non-null   float64\n",
            "dtypes: float64(23)\n",
            "memory usage: 1.1 MB\n"
          ]
        }
      ],
      "source": [
        "X_test.info()"
      ],
      "id": "X5We4T-nbwPy"
    },
    {
      "cell_type": "code",
      "execution_count": null,
      "metadata": {
        "colab": {
          "base_uri": "https://localhost:8080/"
        },
        "id": "HYUcWicQbyU9",
        "outputId": "3eaf5784-2f46-49f0-9a4d-0625044b4582"
      },
      "outputs": [
        {
          "output_type": "execute_result",
          "data": {
            "text/plain": [
              "6000"
            ]
          },
          "metadata": {},
          "execution_count": 21
        }
      ],
      "source": [
        "len(y_test)"
      ],
      "id": "HYUcWicQbyU9"
    },
    {
      "cell_type": "code",
      "source": [
        "# Create dictionary for storing values of all models\n",
        "prediction = dict()"
      ],
      "metadata": {
        "id": "vbib9pIbM0k2"
      },
      "id": "vbib9pIbM0k2",
      "execution_count": null,
      "outputs": []
    },
    {
      "cell_type": "markdown",
      "metadata": {
        "id": "fb6c6517"
      },
      "source": [
        "# Logistic Regression"
      ],
      "id": "fb6c6517"
    },
    {
      "cell_type": "code",
      "execution_count": null,
      "metadata": {
        "colab": {
          "base_uri": "https://localhost:8080/"
        },
        "id": "8PPHcnd1f1MQ",
        "outputId": "45f3b286-b3fc-4c99-bd69-94a968af41d5"
      },
      "outputs": [
        {
          "output_type": "stream",
          "name": "stdout",
          "text": [
            "Accuaracy of Logistic Regression Model on not normalized Data : \n",
            "81.28333333333333\n"
          ]
        }
      ],
      "source": [
        "logreg = LogisticRegression(C=1e5)\n",
        "logreg.fit(X_train_2, y_train_1)\n",
        "prediction = logreg.predict(X_test)\n",
        "print(\"Accuaracy of Logistic Regression Model on not normalized Data : \")\n",
        "a= accuracy_score(y_test, prediction)\n",
        "a=a*100\n",
        "print(a)"
      ],
      "id": "8PPHcnd1f1MQ"
    },
    {
      "cell_type": "code",
      "execution_count": null,
      "metadata": {
        "colab": {
          "base_uri": "https://localhost:8080/"
        },
        "id": "d9185833",
        "outputId": "c60277fa-a3a7-41ed-c1c3-bfa17ec2cde1"
      },
      "outputs": [
        {
          "output_type": "stream",
          "name": "stdout",
          "text": [
            "Accuaracy of Logistic Regression Model on Imbalanced Data : \n",
            "77.8\n"
          ]
        }
      ],
      "source": [
        "logreg = LogisticRegression(C=1e5)\n",
        "logreg.fit(X_train_1, y_train_1)\n",
        "prediction = logreg.predict(X_test)\n",
        "print(\"Accuaracy of Logistic Regression Model on Imbalanced Data : \")\n",
        "a= accuracy_score(y_test, prediction)\n",
        "a=a*100\n",
        "print(a)"
      ],
      "id": "d9185833"
    },
    {
      "cell_type": "code",
      "execution_count": null,
      "metadata": {
        "colab": {
          "base_uri": "https://localhost:8080/",
          "height": 364
        },
        "id": "a1f0d820",
        "outputId": "c1fab5ed-04a5-40b6-d982-b9638f7c3912"
      },
      "outputs": [
        {
          "output_type": "stream",
          "name": "stdout",
          "text": [
            "Accuracy of model\n",
            "78.38333333333334\n",
            "F1 score:  [0.8586992  0.54023396]\n"
          ]
        },
        {
          "output_type": "display_data",
          "data": {
            "text/plain": [
              "<Figure size 432x288 with 2 Axes>"
            ],
            "image/png": "[encoded data removed]"
          },
          "metadata": {
            "needs_background": "light"
          }
        },
        {
          "output_type": "stream",
          "name": "stdout",
          "text": [
            "Average precision-recall score: 0.39\n"
          ]
        }
      ],
      "source": [
        "##create an object of the class, logreg is the object of class LogisticRegression\n",
        "logreg = LogisticRegression()\n",
        "\n",
        "logreg.fit(X_train, y_train)\n",
        "\n",
        "prediction = logreg.predict(X_test)\n",
        "\n",
        "print(\"Accuracy of model\")\n",
        "a= accuracy_score(y_test, prediction)\n",
        "a=a*100\n",
        "print(a)\n",
        "\n",
        "print(\"F1 score: \", f1_score(y_test, prediction, average=None))\n",
        "\n",
        "skplt.metrics.plot_confusion_matrix(y_test, prediction)\n",
        "plt.show()\n",
        "\n",
        "average_precision = average_precision_score(y_test,prediction)\n",
        "print('Average precision-recall score: {0:0.2f}'.format(average_precision))\n"
      ],
      "id": "a1f0d820"
    },
    {
      "cell_type": "code",
      "execution_count": null,
      "metadata": {
        "colab": {
          "base_uri": "https://localhost:8080/",
          "height": 347
        },
        "id": "tiBFArfU6q98",
        "outputId": "0df1b6b7-26e8-40cf-bb3b-8eb0c120f62c"
      },
      "outputs": [
        {
          "output_type": "stream",
          "name": "stdout",
          "text": [
            "Accuracy of model\n",
            "78.38333333333334\n"
          ]
        },
        {
          "output_type": "display_data",
          "data": {
            "text/plain": [
              "<Figure size 432x288 with 2 Axes>"
            ],
            "image/png": "[encoded data removed]"
          },
          "metadata": {
            "needs_background": "light"
          }
        },
        {
          "output_type": "stream",
          "name": "stdout",
          "text": [
            "Average precision-recall score: 0.21\n"
          ]
        }
      ],
      "source": [
        "#Gridsearch for Logistic regression\n",
        "model = LogisticRegression()\n",
        "grid_vals = {'penalty': ['l1','l2'], 'C': [0.001,0.01,0.1,1]}\n",
        "\n",
        "grid_lr = GridSearchCV(estimator=model, param_grid=grid_vals, scoring='accuracy', \n",
        "                       cv=6, refit=True, return_train_score=True) \n",
        "\n",
        "#Training and Prediction\n",
        "grid_lr.fit(X_train, y_train)\n",
        "prediction['Logistic'] = grid_lr.best_estimator_.predict(X_test)\n",
        "\n",
        "print(\"Accuracy of model\")\n",
        "a= accuracy_score(y_test, prediction['Logistic'])\n",
        "a=a*100\n",
        "print(a)\n",
        "\n",
        "#print(confusion_matrix)  \n",
        "skplt.metrics.plot_confusion_matrix(y_test, prediction['Logistic'])\n",
        "plt.show()\n",
        "\n",
        "average_precision = average_precision_score(y_test,preds)\n",
        "print('Average precision-recall score: {0:0.2f}'.format(average_precision))\n"
      ],
      "id": "tiBFArfU6q98"
    },
    {
      "cell_type": "code",
      "execution_count": null,
      "metadata": {
        "colab": {
          "base_uri": "https://localhost:8080/"
        },
        "id": "xyAlT2jfnxkv",
        "outputId": "dfaa9e8a-7f51-4ff2-a4d6-47b818d9fb94"
      },
      "outputs": [
        {
          "output_type": "execute_result",
          "data": {
            "text/plain": [
              "LogisticRegression(C=1)"
            ]
          },
          "metadata": {},
          "execution_count": 154
        }
      ],
      "source": [
        "grid_lr.best_estimator_"
      ],
      "id": "xyAlT2jfnxkv"
    },
    {
      "cell_type": "markdown",
      "metadata": {
        "id": "bb153fdd"
      },
      "source": [
        "# K Nearest Neighbors"
      ],
      "id": "bb153fdd"
    },
    {
      "cell_type": "markdown",
      "metadata": {
        "id": "f8d5b32f"
      },
      "source": [
        "### For a data point to be classified into two different categories, We find the k nearest neighbors (k is any odd value) Then we use majority voting on the labels. The majority class label is assigned to the data point If k is even then distance is calculated. The shorted distance is used"
      ],
      "id": "f8d5b32f"
    },
    {
      "cell_type": "code",
      "execution_count": null,
      "metadata": {
        "colab": {
          "base_uri": "https://localhost:8080/",
          "height": 364
        },
        "id": "fff51f70",
        "outputId": "47e2a974-a079-4e17-9c04-ca69f9a4520c"
      },
      "outputs": [
        {
          "output_type": "stream",
          "name": "stdout",
          "text": [
            "Accuracy of model\n",
            "64.88333333333334\n",
            "F1 score:  [0.74635849 0.42946114]\n"
          ]
        },
        {
          "output_type": "display_data",
          "data": {
            "text/plain": [
              "<Figure size 432x288 with 2 Axes>"
            ],
            "image/png": "[encoded data removed]"
          },
          "metadata": {
            "needs_background": "light"
          }
        },
        {
          "output_type": "stream",
          "name": "stdout",
          "text": [
            "Average precision-recall score: 0.29\n"
          ]
        }
      ],
      "source": [
        "#default parameters\n",
        "classifier = KNeighborsClassifier(n_neighbors=5)  \n",
        "classifier.fit(X_train, y_train) \n",
        "\n",
        "prediction= classifier.predict(X_test)  \n",
        "\n",
        "print(\"Accuracy of model\")\n",
        "a= accuracy_score(y_test, prediction)\n",
        "a=a*100\n",
        "print(a)\n",
        "\n",
        "print(\"F1 score: \", f1_score(y_test, prediction, average=None))\n",
        "\n",
        "#print(confusion_matrix)  \n",
        "skplt.metrics.plot_confusion_matrix(y_test, prediction)\n",
        "plt.show()\n",
        "\n",
        "average_precision = average_precision_score(y_test,prediction)\n",
        "print('Average precision-recall score: {0:0.2f}'.format(average_precision))"
      ],
      "id": "fff51f70"
    },
    {
      "cell_type": "code",
      "execution_count": null,
      "metadata": {
        "colab": {
          "base_uri": "https://localhost:8080/",
          "height": 364
        },
        "id": "xQx53Dj1FiG1",
        "outputId": "ca4ae686-60ce-443f-8e5a-17e5ceab770e"
      },
      "outputs": [
        {
          "output_type": "stream",
          "name": "stdout",
          "text": [
            "Fitting 10 folds for each of 30 candidates, totalling 300 fits\n",
            "accuaracy of model\n",
            "69.11666666666667\n"
          ]
        },
        {
          "output_type": "display_data",
          "data": {
            "text/plain": [
              "<Figure size 432x288 with 2 Axes>"
            ],
            "image/png": "[encoded data removed]"
          },
          "metadata": {
            "needs_background": "light"
          }
        },
        {
          "output_type": "stream",
          "name": "stdout",
          "text": [
            "Average precision-recall score: 0.28\n"
          ]
        }
      ],
      "source": [
        "#Grid search for KNN\n",
        "knn = KNeighborsClassifier()\n",
        "k_range = list(range(1, 31))\n",
        "param_grid = dict(n_neighbors=k_range)\n",
        "  \n",
        "# defining parameter range\n",
        "grid_knn = GridSearchCV(knn, param_grid, cv=10, scoring='accuracy', return_train_score=False,verbose=1)\n",
        "\n",
        "# fitting the model for grid search\n",
        "grid_search=grid_knn.fit(X_train, y_train)\n",
        "prediction['KNN'] = grid_knn.predict(X_test)  \n",
        "print(\"accuaracy of model\")\n",
        "a= accuracy_score(y_test, prediction['KNN'])\n",
        "a=a*100\n",
        "print(a)\n",
        "\n",
        "#print(confusion_matrix)  \n",
        "skplt.metrics.plot_confusion_matrix(y_test, prediction['KNN'])\n",
        "plt.show()\n",
        "\n",
        "average_precision = average_precision_score(y_test,prediction['KNN'])\n",
        "print('Average precision-recall score: {0:0.2f}'.format(average_precision))"
      ],
      "id": "xQx53Dj1FiG1"
    },
    {
      "cell_type": "code",
      "execution_count": null,
      "metadata": {
        "colab": {
          "base_uri": "https://localhost:8080/"
        },
        "id": "t7JA2ivZ7UYq",
        "outputId": "9c0b6aa5-96a5-450c-b071-9de1bd1fc63c"
      },
      "outputs": [
        {
          "output_type": "execute_result",
          "data": {
            "text/plain": [
              "KNeighborsClassifier(n_neighbors=1)"
            ]
          },
          "metadata": {},
          "execution_count": 157
        }
      ],
      "source": [
        "grid_knn.best_estimator_"
      ],
      "id": "t7JA2ivZ7UYq"
    },
    {
      "cell_type": "markdown",
      "metadata": {
        "id": "ef670961"
      },
      "source": [
        "# Decision Tree Classifier"
      ],
      "id": "ef670961"
    },
    {
      "cell_type": "code",
      "execution_count": null,
      "metadata": {
        "colab": {
          "base_uri": "https://localhost:8080/",
          "height": 364
        },
        "id": "f5589fc8",
        "outputId": "8c31951f-aca7-4981-c7be-8a76c31d00da"
      },
      "outputs": [
        {
          "output_type": "stream",
          "name": "stdout",
          "text": [
            "accuracy of the model\n",
            "53.733333333333334\n",
            "F1 score:  [0.65804385 0.28490469]\n"
          ]
        },
        {
          "output_type": "display_data",
          "data": {
            "text/plain": [
              "<Figure size 432x288 with 2 Axes>"
            ],
            "image/png": "[encoded data removed]"
          },
          "metadata": {
            "needs_background": "light"
          }
        },
        {
          "output_type": "stream",
          "name": "stdout",
          "text": [
            "Average precision-recall score: 0.22\n"
          ]
        }
      ],
      "source": [
        "#Calling the Decision TRee Classifier class default parameters\n",
        "#clf_gini = DecisionTreeClassifier(criterion = \"gini\", random_state = None,\n",
        "                               #max_depth=None, min_samples_leaf=1)\n",
        "clf_gini = DecisionTreeClassifier()\n",
        "\n",
        "clf_gini.fit(X_train, y_train)\n",
        "\n",
        "prediction = clf_gini.predict(X_test)\n",
        "print(\"accuracy of the model\")\n",
        "a=accuracy_score(y_test, prediction)\n",
        "a=a*100\n",
        "print(a)\n",
        "\n",
        "print(\"F1 score: \", f1_score(y_test, prediction, average=None))\n",
        "\n",
        "#print(confusion_matrix)  \n",
        "skplt.metrics.plot_confusion_matrix(y_test, prediction)\n",
        "plt.show()\n",
        "\n",
        "average_precision = average_precision_score(y_test,prediction)\n",
        "print('Average precision-recall score: {0:0.2f}'.format(average_precision))"
      ],
      "id": "f5589fc8"
    },
    {
      "cell_type": "code",
      "execution_count": null,
      "metadata": {
        "colab": {
          "base_uri": "https://localhost:8080/",
          "height": 364
        },
        "id": "14_fMe34sW01",
        "outputId": "4ecc7570-728d-4cbd-a5ed-89e04b3b062b"
      },
      "outputs": [
        {
          "output_type": "stream",
          "name": "stdout",
          "text": [
            "Fitting 3 folds for each of 294 candidates, totalling 882 fits\n",
            "accuracy of the model\n",
            "59.21666666666666\n"
          ]
        },
        {
          "output_type": "display_data",
          "data": {
            "text/plain": [
              "<Figure size 432x288 with 2 Axes>"
            ],
            "image/png": "[encoded data removed]"
          },
          "metadata": {
            "needs_background": "light"
          }
        },
        {
          "output_type": "stream",
          "name": "stdout",
          "text": [
            "Average precision-recall score: 0.21\n"
          ]
        }
      ],
      "source": [
        "#Grid search for Decision tree\n",
        "params = {'max_leaf_nodes': list(range(2, 100)), 'min_samples_split': [2, 3, 4]}\n",
        "grid_dt = GridSearchCV(DecisionTreeClassifier(random_state=42), params, verbose=1, cv=3)\n",
        "grid_dt.fit(X_train, y_train)\n",
        "\n",
        "prediction['DT'] = grid_dt.predict(X_test)\n",
        "print(\"Accuracy of the model\")\n",
        "a=accuracy_score(y_test, prediction['DT'])\n",
        "a=a*100\n",
        "print(a)\n",
        "\n",
        "#print(confusion_matrix) \n",
        "skplt.metrics.plot_confusion_matrix(y_test, prediction['DT'])\n",
        "plt.show()\n",
        "\n",
        "average_precision = average_precision_score(y_test,prediction['DT'])\n",
        "print('Average precision-recall score: {0:0.2f}'.format(average_precision))"
      ],
      "id": "14_fMe34sW01"
    },
    {
      "cell_type": "code",
      "execution_count": null,
      "metadata": {
        "colab": {
          "base_uri": "https://localhost:8080/"
        },
        "id": "Kd_eho2592wM",
        "outputId": "2196df02-0eab-4f3c-a8a3-f66466d8a552"
      },
      "outputs": [
        {
          "output_type": "execute_result",
          "data": {
            "text/plain": [
              "DecisionTreeClassifier(max_leaf_nodes=99, random_state=42)"
            ]
          },
          "metadata": {},
          "execution_count": 160
        }
      ],
      "source": [
        "clf_gini_grid_search_cv.best_estimator_"
      ],
      "id": "Kd_eho2592wM"
    },
    {
      "cell_type": "markdown",
      "metadata": {
        "id": "798ad395"
      },
      "source": [
        "# Random Forest-- Ensemble learning , deeper Decision trees"
      ],
      "id": "798ad395"
    },
    {
      "cell_type": "markdown",
      "metadata": {
        "id": "4a25a51b"
      },
      "source": [
        "### Particularly, trees that are grown very deep tend to learn highly irregular patterns: they overfit their training sets, i.e. have low bias, but very high variance. Random forests are a way of averaging multiple deep decision trees, trained on different parts of the same training set, with the goal of reducing the variance"
      ],
      "id": "4a25a51b"
    },
    {
      "cell_type": "code",
      "execution_count": null,
      "metadata": {
        "colab": {
          "base_uri": "https://localhost:8080/",
          "height": 364
        },
        "id": "060c155f",
        "outputId": "2ab7f870-356d-402e-f76b-8dffe32ef52a"
      },
      "outputs": [
        {
          "output_type": "stream",
          "name": "stdout",
          "text": [
            "Accuracy of the model\n",
            "77.64999999999999\n",
            "F1 score:  [0.87107009 0.16135084]\n"
          ]
        },
        {
          "output_type": "display_data",
          "data": {
            "text/plain": [
              "<Figure size 432x288 with 2 Axes>"
            ],
            "image/png": "[encoded data removed]"
          },
          "metadata": {
            "needs_background": "light"
          }
        },
        {
          "output_type": "stream",
          "name": "stdout",
          "text": [
            "Average precision-recall score: 0.25\n"
          ]
        }
      ],
      "source": [
        "#calling the RandomForest Classifier default parameters\n",
        "# clf = RandomForestClassifier(n_jobs=1000, \n",
        "#                              random_state=9,\n",
        "#                              #criterion=RFC_METRIC,\n",
        "#                              n_estimators=11,\n",
        "#                              verbose=False)\n",
        "\n",
        "clf = RandomForestClassifier()\n",
        "\n",
        "clf = RandomForestClassifier()\n",
        "clf.fit(X_train,y_train)\n",
        "prediction = clf.predict(X_test)\n",
        "\n",
        "print(\"Accuracy of the model\")\n",
        "a= accuracy_score(y_test, prediction)\n",
        "a= a*100\n",
        "print(a)\n",
        "print(\"F1 score: \", f1_score(y_test, prediction, average=None))\n",
        "#print(confusion_matrix)  \n",
        "skplt.metrics.plot_confusion_matrix(y_test, prediction)\n",
        "plt.show()\n",
        "\n",
        "average_precision = average_precision_score(y_test,prediction)\n",
        "print('Average precision-recall score: {0:0.2f}'.format(average_precision))"
      ],
      "id": "060c155f"
    },
    {
      "cell_type": "code",
      "source": [
        "#Grid search for Random Forest\n",
        "params = { \n",
        "    'n_estimators': [200, 500],\n",
        "    'max_features': ['auto', 'sqrt', 'log2'],\n",
        "    'max_depth' : [4,5,6,7,8],\n",
        "    'criterion' :['gini', 'entropy']\n",
        "}\n",
        "grid_rf = GridSearchCV(estimator=RandomForestClassifier(random_state=42), param_grid=params, cv= 5)\n",
        "grid_rf.fit(X_train, y_train)\n",
        "\n",
        "prediction['RF'] = grid_rf.predict(X_test)\n",
        "\n",
        "print(\"Accuracy of the model\")\n",
        "a=accuracy_score(y_test, prediction['RF'])\n",
        "a=a*100\n",
        "print(a)\n",
        "\n",
        "#print(confusion_matrix) \n",
        "skplt.metrics.plot_confusion_matrix(y_test, prediction['RF'])\n",
        "plt.show()\n",
        "\n",
        "average_precision = average_precision_score(y_test,prediction['RF'])\n",
        "print('Average precision-recall score: {0:0.2f}'.format(average_precision))"
      ],
      "metadata": {
        "colab": {
          "base_uri": "https://localhost:8080/",
          "height": 347
        },
        "id": "TUv8e8pw9Ful",
        "outputId": "30e398dd-b556-482e-f240-27f15942de4a"
      },
      "id": "TUv8e8pw9Ful",
      "execution_count": null,
      "outputs": [
        {
          "output_type": "stream",
          "name": "stdout",
          "text": [
            "Accuracy of the model\n",
            "80.88333333333333\n"
          ]
        },
        {
          "output_type": "display_data",
          "data": {
            "text/plain": [
              "<Figure size 432x288 with 2 Axes>"
            ],
            "image/png": "[encoded data removed]"
          },
          "metadata": {
            "needs_background": "light"
          }
        },
        {
          "output_type": "stream",
          "name": "stdout",
          "text": [
            "Average precision-recall score: 0.37\n"
          ]
        }
      ]
    },
    {
      "cell_type": "code",
      "execution_count": null,
      "metadata": {
        "id": "5TAobQ9bBdGB",
        "colab": {
          "base_uri": "https://localhost:8080/"
        },
        "outputId": "6fe870c2-7273-455b-a3bf-6a5e66d40ec7"
      },
      "outputs": [
        {
          "output_type": "execute_result",
          "data": {
            "text/plain": [
              "{'criterion': 'gini',\n",
              " 'max_depth': 8,\n",
              " 'max_features': 'auto',\n",
              " 'n_estimators': 500}"
            ]
          },
          "metadata": {},
          "execution_count": 164
        }
      ],
      "source": [
        "grid_rf.best_params_"
      ],
      "id": "5TAobQ9bBdGB"
    },
    {
      "cell_type": "markdown",
      "metadata": {
        "id": "3e572c48"
      },
      "source": [
        "# XGBoost"
      ],
      "id": "3e572c48"
    },
    {
      "cell_type": "code",
      "source": [
        "import xgboost as xgb\n",
        "from sklearn.ensemble import AdaBoostClassifier"
      ],
      "metadata": {
        "id": "SarpQpoGU0xC"
      },
      "id": "SarpQpoGU0xC",
      "execution_count": null,
      "outputs": []
    },
    {
      "cell_type": "code",
      "source": [
        "#XGBoost default parameters\n",
        "#xgb_model = xgb.XGBClassifier(objective='binary:logistic', n_estimators=10, seed=0)\n",
        "\n",
        "xgb_model = xgb.XGBClassifier()\n",
        "\n",
        "xgb_model.fit(X_train,y_train)\n",
        "prediction = xgb_model.predict(X_test)\n",
        "\n",
        "print(\"Accuracy of the model\")\n",
        "a= accuracy_score(y_test, prediction)\n",
        "a= a*100\n",
        "print(a)\n",
        "\n",
        "print(\"F1 score: \", f1_score(y_test, prediction, average=None))\n",
        "\n",
        "#print(confusion_matrix)  \n",
        "skplt.metrics.plot_confusion_matrix(y_test, prediction)\n",
        "plt.show()\n",
        "\n",
        "average_precision = average_precision_score(y_test,prediction)\n",
        "print('Average precision-recall score: {0:0.2f}'.format(average_precision))\n"
      ],
      "metadata": {
        "colab": {
          "base_uri": "https://localhost:8080/",
          "height": 364
        },
        "id": "jG_WcP1E_K9R",
        "outputId": "18cb579a-9bfe-46f2-8d90-0c0c71f0897d"
      },
      "id": "jG_WcP1E_K9R",
      "execution_count": null,
      "outputs": [
        {
          "output_type": "stream",
          "name": "stdout",
          "text": [
            "Accuracy of the model\n",
            "64.91666666666667\n",
            "F1 score:  [0.74187615 0.45253576]\n"
          ]
        },
        {
          "output_type": "display_data",
          "data": {
            "text/plain": [
              "<Figure size 432x288 with 2 Axes>"
            ],
            "image/png": "[encoded data removed]"
          },
          "metadata": {
            "needs_background": "light"
          }
        },
        {
          "output_type": "stream",
          "name": "stdout",
          "text": [
            "Average precision-recall score: 0.30\n"
          ]
        }
      ]
    },
    {
      "cell_type": "code",
      "source": [
        "param_grid = {'gamma': [0,0.1,0.2,0.4],\n",
        "              'learning_rate': [0.01, 0.1, 1.0],\n",
        "              'max_depth': [3,5,6],\n",
        "              'n_estimators': [50,80,150],\n",
        "              'reg_alpha': [0,0.1],\n",
        "              'reg_lambda': [0,0.1,1]}\n",
        "\n",
        "grid_xgb = GridSearchCV(estimator=xgb.XGBClassifier(), param_grid=param_grid, scoring='accuracy', return_train_score=True, verbose=1, cv=3)\n",
        "grid_xgb.fit(X_train, y_train)\n",
        "\n",
        "prediction['XGB'] = grid_xgb.predict(X_test)\n",
        "\n",
        "print(\"Accuracy of the model\")\n",
        "a=accuracy_score(y_test, prediction['XGB'])\n",
        "a=a*100\n",
        "print(a)\n",
        "\n",
        "#print(confusion_matrix) \n",
        "skplt.metrics.plot_confusion_matrix(y_test, prediction['XGB'])\n",
        "plt.show()\n",
        "\n",
        "average_precision = average_precision_score(y_test,prediction['XGB'])\n",
        "print('Average precision-recall score: {0:0.2f}'.format(average_precision))"
      ],
      "metadata": {
        "colab": {
          "base_uri": "https://localhost:8080/",
          "height": 364
        },
        "id": "5Hkp8nDnAuyw",
        "outputId": "ea00301d-b96f-480b-96c5-93eead05874f"
      },
      "id": "5Hkp8nDnAuyw",
      "execution_count": null,
      "outputs": [
        {
          "output_type": "stream",
          "name": "stdout",
          "text": [
            "Fitting 3 folds for each of 648 candidates, totalling 1944 fits\n",
            "Accuracy of the model\n",
            "35.4\n"
          ]
        },
        {
          "output_type": "display_data",
          "data": {
            "text/plain": [
              "<Figure size 432x288 with 2 Axes>"
            ],
            "image/png": "[encoded data removed]"
          },
          "metadata": {
            "needs_background": "light"
          }
        },
        {
          "output_type": "stream",
          "name": "stdout",
          "text": [
            "Average precision-recall score: 0.24\n"
          ]
        }
      ]
    },
    {
      "cell_type": "code",
      "source": [
        "grid_xgb.best_params_"
      ],
      "metadata": {
        "colab": {
          "base_uri": "https://localhost:8080/"
        },
        "id": "8vf5CCbOZg9c",
        "outputId": "26501a99-aef2-431e-ed28-338f97be2a89"
      },
      "id": "8vf5CCbOZg9c",
      "execution_count": null,
      "outputs": [
        {
          "output_type": "execute_result",
          "data": {
            "text/plain": [
              "{'gamma': 0.1,\n",
              " 'learning_rate': 0.1,\n",
              " 'max_depth': 6,\n",
              " 'n_estimators': 150,\n",
              " 'reg_alpha': 0.1,\n",
              " 'reg_lambda': 0}"
            ]
          },
          "metadata": {},
          "execution_count": 44
        }
      ]
    },
    {
      "cell_type": "markdown",
      "metadata": {
        "id": "9e6eae4a"
      },
      "source": [
        "# AdaBoost"
      ],
      "id": "9e6eae4a"
    },
    {
      "cell_type": "code",
      "source": [
        "adb_model = AdaBoostClassifier()\n",
        "\n",
        "adb_model.fit(X_train,y_train)\n",
        "prediction['adb'] = adb_model.predict(X_test)\n",
        "\n",
        "print(\"Accuracy of the model\")\n",
        "a= accuracy_score(y_test, prediction['adb'])\n",
        "a= a*100\n",
        "print(a)\n",
        "\n",
        "#print(confusion_matrix)  \n",
        "skplt.metrics.plot_confusion_matrix(y_test, prediction['adb'])\n",
        "plt.show()\n",
        "\n",
        "average_precision = average_precision_score(y_test,prediction['adb'])\n",
        "print('Average precision-recall score: {0:0.2f}'.format(average_precision))"
      ],
      "metadata": {
        "colab": {
          "base_uri": "https://localhost:8080/",
          "height": 347
        },
        "id": "pV0LQshGWujf",
        "outputId": "22a47175-dc1e-4a6d-fa47-1483ca05745c"
      },
      "id": "pV0LQshGWujf",
      "execution_count": null,
      "outputs": [
        {
          "output_type": "stream",
          "name": "stdout",
          "text": [
            "Accuracy of the model\n",
            "60.68333333333334\n"
          ]
        },
        {
          "output_type": "display_data",
          "data": {
            "text/plain": [
              "<Figure size 432x288 with 2 Axes>"
            ],
            "image/png": "[encoded data removed]"
          },
          "metadata": {
            "needs_background": "light"
          }
        },
        {
          "output_type": "stream",
          "name": "stdout",
          "text": [
            "Average precision-recall score: 0.30\n"
          ]
        }
      ]
    },
    {
      "cell_type": "code",
      "source": [
        "param_grid = {'n_estimators': [10, 50, 100, 500],\n",
        "              'learning_rate': [0.0001, 0.001, 0.01, 0.1, 1.0]}\n",
        "\n",
        "grid_adb = GridSearchCV(estimator=AdaBoostClassifier(), param_grid=param_grid, scoring='accuracy', return_train_score=True, verbose=1, cv=3)\n",
        "grid_adb.fit(X_train, y_train)\n",
        "\n",
        "prediction['ADB'] = grid_adb.predict(X_test)\n",
        "\n",
        "print(\"Accuracy of the model\")\n",
        "a=accuracy_score(y_test, prediction['ADB'])\n",
        "a=a*100\n",
        "print(a)\n",
        "\n",
        "#print(confusion_matrix) \n",
        "skplt.metrics.plot_confusion_matrix(y_test, prediction['ADB'])\n",
        "plt.show()\n",
        "\n",
        "average_precision = average_precision_score(y_test,prediction['ADB'])\n",
        "print('Average precision-recall score: {0:0.2f}'.format(average_precision))"
      ],
      "metadata": {
        "colab": {
          "base_uri": "https://localhost:8080/",
          "height": 364
        },
        "id": "9tNVGIq4Wu4-",
        "outputId": "5aaa6999-8e16-48d5-f22e-0823cc306cf9"
      },
      "id": "9tNVGIq4Wu4-",
      "execution_count": null,
      "outputs": [
        {
          "output_type": "stream",
          "name": "stdout",
          "text": [
            "Fitting 3 folds for each of 20 candidates, totalling 60 fits\n",
            "Accuracy of the model\n",
            "52.03333333333333\n"
          ]
        },
        {
          "output_type": "display_data",
          "data": {
            "text/plain": [
              "<Figure size 432x288 with 2 Axes>"
            ],
            "image/png": "[encoded data removed]"
          },
          "metadata": {
            "needs_background": "light"
          }
        },
        {
          "output_type": "stream",
          "name": "stdout",
          "text": [
            "Average precision-recall score: 0.27\n"
          ]
        }
      ]
    },
    {
      "cell_type": "code",
      "source": [
        "grid_adb.best_params_"
      ],
      "metadata": {
        "colab": {
          "base_uri": "https://localhost:8080/"
        },
        "id": "ObB2hw-dba58",
        "outputId": "6375fe88-233a-4834-daf8-7a79a6f9ca2d"
      },
      "id": "ObB2hw-dba58",
      "execution_count": null,
      "outputs": [
        {
          "output_type": "execute_result",
          "data": {
            "text/plain": [
              "{'learning_rate': 1.0, 'n_estimators': 500}"
            ]
          },
          "metadata": {},
          "execution_count": 38
        }
      ]
    },
    {
      "cell_type": "code",
      "source": [],
      "metadata": {
        "id": "C5BcCxmcbhrk"
      },
      "id": "C5BcCxmcbhrk",
      "execution_count": null,
      "outputs": []
    },
    {
      "cell_type": "code",
      "source": [],
      "metadata": {
        "id": "F-ZTydvfbhud"
      },
      "id": "F-ZTydvfbhud",
      "execution_count": null,
      "outputs": []
    }
  ],
  "metadata": {
    "colab": {
      "provenance": []
    },
    "kernelspec": {
      "display_name": "Python 3 (ipykernel)",
      "language": "python",
      "name": "python3"
    },
    "language_info": {
      "codemirror_mode": {
        "name": "ipython",
        "version": 3
      },
      "file_extension": ".py",
      "mimetype": "text/x-python",
      "name": "python",
      "nbconvert_exporter": "python",
      "pygments_lexer": "ipython3",
      "version": "3.9.7"
    }
  },
  "nbformat": 4,
  "nbformat_minor": 5
}